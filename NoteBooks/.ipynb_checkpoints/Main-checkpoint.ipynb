{
 "cells": [
  {
   "cell_type": "code",
   "execution_count": 42,
   "metadata": {},
   "outputs": [],
   "source": [
    "import requests\n",
    "from requests_html import HTML\n",
    "import pandas as pd\n",
    "import sys\n",
    "import os\n",
    "from time import sleep"
   ]
  },
  {
   "cell_type": "code",
   "execution_count": 43,
   "metadata": {},
   "outputs": [],
   "source": [
    "FILE_dir = os.getcwd()\n",
    "DIR = os.path.dirname(FILE_dir)\n",
    "DATA_DIR = os.path.join(DIR, 'Data')\n",
    "os.makedirs(DATA_DIR, exist_ok=True)"
   ]
  },
  {
   "cell_type": "code",
   "execution_count": 44,
   "metadata": {},
   "outputs": [],
   "source": [
    "def url_to_txt(url, filename='StackOverflow', save=False):\n",
    "    r = requests.get(url)\n",
    "    if r.status_code in range(200, 299):\n",
    "        html_text = r.text\n",
    "        if save:\n",
    "            with open(f\"{filename}.html\", 'w') as f:\n",
    "                f.write(html_text)\n",
    "        return html_text\n",
    "    print(\"Failed\")\n",
    "    sys.exit(1)"
   ]
  },
  {
   "cell_type": "code",
   "execution_count": 45,
   "metadata": {},
   "outputs": [],
   "source": [
    "def clean_scraped_data(html, keyname=None):\n",
    "    if keyname == 'votes':\n",
    "        return html.text.replace('\\nvotes', '')\n",
    "    if keyname == 'id':\n",
    "        return int(list(html.links)[0].split(\"/\")[2])\n",
    "        \n",
    "    return html.text"
   ]
  },
  {
   "cell_type": "code",
   "execution_count": 46,
   "metadata": {},
   "outputs": [],
   "source": [
    "def scrape(url):\n",
    "    neded = ['.question-hyperlink', '.excerpt', '.tags', '.question-hyperlink']\n",
    "    key_word = ['Question', 'Desc', 'Tag', 'id']\n",
    "    Data = []\n",
    "    html_r = url_to_txt(url)\n",
    "    html = HTML(html=html_r)\n",
    "    \n",
    "    Class = '.question-summary'\n",
    "    Class = html.find(Class)\n",
    "    \n",
    "    for element in Class:\n",
    "        Data_dict = {}\n",
    "        for i, _class in enumerate(neded):\n",
    "            sub_el = element.find(_class, first=True)\n",
    "            key_name = key_word[i]\n",
    "            Data_dict[key_name] = clean_scraped_data(sub_el, keyname=key_name)\n",
    "        Data.append(Data_dict)\n",
    "    return Data"
   ]
  },
  {
   "cell_type": "code",
   "execution_count": 59,
   "metadata": {},
   "outputs": [],
   "source": [
    "def to_csv(data, filename):\n",
    "    df = pd.DataFrame(data)\n",
    "    df.to_csv(filename, index=False)"
   ]
  },
  {
   "cell_type": "code",
   "execution_count": 62,
   "metadata": {},
   "outputs": [],
   "source": [
    "def run(filename, Sort_by='MostVotes', max_pages=50, Tag='python'):\n",
    "    OUTPUT = os.path.join(DATA_DIR, filename)\n",
    "    all_data = []\n",
    "    for p in range(1, max_pages+1):\n",
    "        url = f'https://stackoverflow.com/questions/tagged/{Tag}?tap={Sort_by}/&page={p}'\n",
    "        Data = scrape(url)\n",
    "        all_data += Data\n",
    "        print(\"done with \",url)\n",
    "        sleep(1)\n",
    "    to_csv(all_data, OUTPUT)"
   ]
  },
  {
   "cell_type": "code",
   "execution_count": 63,
   "metadata": {},
   "outputs": [
    {
     "name": "stdout",
     "output_type": "stream",
     "text": [
      "done with  https://stackoverflow.com/questions/tagged/python?tap=MostVotes/&page=1\n",
      "done with  https://stackoverflow.com/questions/tagged/python?tap=MostVotes/&page=2\n",
      "done with  https://stackoverflow.com/questions/tagged/python?tap=MostVotes/&page=3\n",
      "done with  https://stackoverflow.com/questions/tagged/python?tap=MostVotes/&page=4\n",
      "done with  https://stackoverflow.com/questions/tagged/python?tap=MostVotes/&page=5\n",
      "done with  https://stackoverflow.com/questions/tagged/python?tap=MostVotes/&page=6\n",
      "done with  https://stackoverflow.com/questions/tagged/python?tap=MostVotes/&page=7\n",
      "done with  https://stackoverflow.com/questions/tagged/python?tap=MostVotes/&page=8\n",
      "done with  https://stackoverflow.com/questions/tagged/python?tap=MostVotes/&page=9\n",
      "done with  https://stackoverflow.com/questions/tagged/python?tap=MostVotes/&page=10\n",
      "done with  https://stackoverflow.com/questions/tagged/python?tap=MostVotes/&page=11\n",
      "done with  https://stackoverflow.com/questions/tagged/python?tap=MostVotes/&page=12\n",
      "done with  https://stackoverflow.com/questions/tagged/python?tap=MostVotes/&page=13\n",
      "done with  https://stackoverflow.com/questions/tagged/python?tap=MostVotes/&page=14\n",
      "done with  https://stackoverflow.com/questions/tagged/python?tap=MostVotes/&page=15\n",
      "done with  https://stackoverflow.com/questions/tagged/python?tap=MostVotes/&page=16\n",
      "done with  https://stackoverflow.com/questions/tagged/python?tap=MostVotes/&page=17\n",
      "done with  https://stackoverflow.com/questions/tagged/python?tap=MostVotes/&page=18\n",
      "done with  https://stackoverflow.com/questions/tagged/python?tap=MostVotes/&page=19\n",
      "done with  https://stackoverflow.com/questions/tagged/python?tap=MostVotes/&page=20\n",
      "done with  https://stackoverflow.com/questions/tagged/python?tap=MostVotes/&page=21\n",
      "done with  https://stackoverflow.com/questions/tagged/python?tap=MostVotes/&page=22\n",
      "done with  https://stackoverflow.com/questions/tagged/python?tap=MostVotes/&page=23\n",
      "done with  https://stackoverflow.com/questions/tagged/python?tap=MostVotes/&page=24\n",
      "done with  https://stackoverflow.com/questions/tagged/python?tap=MostVotes/&page=25\n",
      "done with  https://stackoverflow.com/questions/tagged/python?tap=MostVotes/&page=26\n",
      "done with  https://stackoverflow.com/questions/tagged/python?tap=MostVotes/&page=27\n",
      "done with  https://stackoverflow.com/questions/tagged/python?tap=MostVotes/&page=28\n",
      "done with  https://stackoverflow.com/questions/tagged/python?tap=MostVotes/&page=29\n",
      "done with  https://stackoverflow.com/questions/tagged/python?tap=MostVotes/&page=30\n",
      "done with  https://stackoverflow.com/questions/tagged/python?tap=MostVotes/&page=31\n",
      "done with  https://stackoverflow.com/questions/tagged/python?tap=MostVotes/&page=32\n",
      "done with  https://stackoverflow.com/questions/tagged/python?tap=MostVotes/&page=33\n",
      "done with  https://stackoverflow.com/questions/tagged/python?tap=MostVotes/&page=34\n",
      "done with  https://stackoverflow.com/questions/tagged/python?tap=MostVotes/&page=35\n",
      "done with  https://stackoverflow.com/questions/tagged/python?tap=MostVotes/&page=36\n",
      "done with  https://stackoverflow.com/questions/tagged/python?tap=MostVotes/&page=37\n",
      "done with  https://stackoverflow.com/questions/tagged/python?tap=MostVotes/&page=38\n",
      "done with  https://stackoverflow.com/questions/tagged/python?tap=MostVotes/&page=39\n",
      "done with  https://stackoverflow.com/questions/tagged/python?tap=MostVotes/&page=40\n",
      "done with  https://stackoverflow.com/questions/tagged/python?tap=MostVotes/&page=41\n",
      "done with  https://stackoverflow.com/questions/tagged/python?tap=MostVotes/&page=42\n",
      "done with  https://stackoverflow.com/questions/tagged/python?tap=MostVotes/&page=43\n",
      "done with  https://stackoverflow.com/questions/tagged/python?tap=MostVotes/&page=44\n",
      "done with  https://stackoverflow.com/questions/tagged/python?tap=MostVotes/&page=45\n",
      "done with  https://stackoverflow.com/questions/tagged/python?tap=MostVotes/&page=46\n",
      "done with  https://stackoverflow.com/questions/tagged/python?tap=MostVotes/&page=47\n",
      "done with  https://stackoverflow.com/questions/tagged/python?tap=MostVotes/&page=48\n",
      "done with  https://stackoverflow.com/questions/tagged/python?tap=MostVotes/&page=49\n",
      "done with  https://stackoverflow.com/questions/tagged/python?tap=MostVotes/&page=50\n"
     ]
    }
   ],
   "source": [
    "run(\"Stack-overfow.csv\")"
   ]
  }
 ],
 "metadata": {
  "kernelspec": {
   "display_name": "Python 3",
   "language": "python",
   "name": "python3"
  },
  "language_info": {
   "codemirror_mode": {
    "name": "ipython",
    "version": 3
   },
   "file_extension": ".py",
   "mimetype": "text/x-python",
   "name": "python",
   "nbconvert_exporter": "python",
   "pygments_lexer": "ipython3",
   "version": "3.8.3"
  }
 },
 "nbformat": 4,
 "nbformat_minor": 4
}
